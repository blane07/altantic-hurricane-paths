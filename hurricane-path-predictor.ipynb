{
 "cells": [
  {
   "cell_type": "markdown",
   "metadata": {},
   "source": [
    "# Hurricane Path Predictor\n",
    "The HURDAT2 dataset is from the US National Hurricane Center. It is a collection of Atlantic hurricanes that occured from 1851 to 2016."
   ]
  },
  {
   "cell_type": "code",
   "execution_count": null,
   "metadata": {},
   "outputs": [],
   "source": []
  },
  {
   "cell_type": "markdown",
   "metadata": {},
   "source": [
    "### Importing the Data"
   ]
  },
  {
   "cell_type": "code",
   "execution_count": 143,
   "metadata": {},
   "outputs": [],
   "source": [
    "# Import python modules\n",
    "import pandas as pd\n",
    "import numpy as np\n",
    "from sklearn.model_selection import train_test_split\n",
    "from sklearn.preprocessing import StandardScaler\n",
    "from keras.models import Sequential\n",
    "from keras.layers import Dense\n",
    "from keras.wrappers.scikit_learn import KerasRegressor\n",
    "from sklearn.model_selection import cross_val_score\n",
    "from sklearn.model_selection import KFold\n",
    "from sklearn.pipeline import Pipeline\n",
    "import seaborn as sns\n",
    "import matplotlib.pyplot as plt"
   ]
  },
  {
   "cell_type": "code",
   "execution_count": 77,
   "metadata": {},
   "outputs": [],
   "source": [
    "# Read .csv file line-by-line\n",
    "with open('hurdat2-1851-2016-041117.csv', 'r') as f: \n",
    "       file_data = [row.strip().split(',') for row in f]\n",
    "# Convert data file to data frame\n",
    "df = pd.DataFrame(file_data)"
   ]
  },
  {
   "cell_type": "code",
   "execution_count": null,
   "metadata": {},
   "outputs": [],
   "source": []
  },
  {
   "cell_type": "markdown",
   "metadata": {},
   "source": [
    "### Cleaning the Data"
   ]
  },
  {
   "cell_type": "code",
   "execution_count": 78,
   "metadata": {},
   "outputs": [],
   "source": [
    "# Delete columns with missing or incomplete data\n",
    "df.drop([2] + list(range(7,21)), axis='columns', inplace=True)\n",
    "# Renaming columns\n",
    "data = pd.DataFrame(np.matrix(df),\n",
    "                    columns=['date', 'time', 'status', 'lat', 'lon', 'max_wind'])"
   ]
  },
  {
   "cell_type": "code",
   "execution_count": 79,
   "metadata": {},
   "outputs": [],
   "source": [
    "# Encoding new events\n",
    "def time_convert(time_str):\n",
    "    try:\n",
    "        return(int(time_str.strip()))\n",
    "    except:\n",
    "        pass\n",
    "data.date = data.date.apply(lambda x: '99999999' if x[0] == 'A' else x.strip())\n",
    "data.time = data.time.apply(lambda x: x.strip())\n",
    "data.status = data.status.apply(lambda x: 'NE' if x == '' else x.strip())\n",
    "data.lat = data.lat.apply(lambda x: '00.0N' if x is None else x.strip())\n",
    "data.lon = data.lon.apply(lambda x: '00.0W' if x is None else x.strip())\n",
    "data.max_wind = data.max_wind.apply(lambda x: 0 if x is None else int(x.strip()))\n"
   ]
  },
  {
   "cell_type": "code",
   "execution_count": 80,
   "metadata": {},
   "outputs": [
    {
     "name": "stdout",
     "output_type": "stream",
     "text": [
      "{'N'}\n"
     ]
    }
   ],
   "source": [
    "# Only 'North' latitudes in the data set\n",
    "lst = []\n",
    "for x in data.lat:\n",
    "    if x is not None:\n",
    "        lst.append(x[-1])\n",
    "lst = set(lst)\n",
    "print(lst)"
   ]
  },
  {
   "cell_type": "code",
   "execution_count": 81,
   "metadata": {},
   "outputs": [
    {
     "name": "stdout",
     "output_type": "stream",
     "text": [
      "{'E', 'W'}\n"
     ]
    }
   ],
   "source": [
    "# 'West' and 'East' longitudes in the data set\n",
    "lst = []\n",
    "for x in data.lon:\n",
    "    if x is not None:\n",
    "        lst.append(x[-1])\n",
    "lst = set(lst)\n",
    "print(lst)"
   ]
  },
  {
   "cell_type": "code",
   "execution_count": 82,
   "metadata": {},
   "outputs": [],
   "source": [
    "# Converting latitude to float data type\n",
    "data.lat = data.lat.apply(lambda x: float(x.strip()[:-1]))"
   ]
  },
  {
   "cell_type": "code",
   "execution_count": 83,
   "metadata": {},
   "outputs": [],
   "source": [
    "# Converting longitude to float data type\n",
    "def lon_convert(lon):\n",
    "    lon = lon.strip()\n",
    "    lon_sign = 1\n",
    "    if lon[-1] == 'W':\n",
    "        lon_sign = -1\n",
    "    return(lon_sign * float(lon[:-1]))\n",
    "\n",
    "data.lon = data.lon.apply(lambda x: lon_convert(x))"
   ]
  },
  {
   "cell_type": "code",
   "execution_count": 84,
   "metadata": {},
   "outputs": [],
   "source": [
    "# Identifying noise in the time column\n",
    "def time_filter(t):\n",
    "    try:\n",
    "        int(t)\n",
    "        return(t)\n",
    "    except:\n",
    "        return('9999')\n",
    "\n",
    "data.time = data.time.apply(lambda x: time_filter(x))"
   ]
  },
  {
   "cell_type": "code",
   "execution_count": null,
   "metadata": {},
   "outputs": [],
   "source": []
  },
  {
   "cell_type": "markdown",
   "metadata": {},
   "source": [
    "### Engineering Features"
   ]
  },
  {
   "cell_type": "code",
   "execution_count": 85,
   "metadata": {},
   "outputs": [],
   "source": [
    "# Extract date information\n",
    "data.loc[:, 'year'] = data.date.apply(lambda x: int(x[0:4]))\n",
    "data.loc[:, 'month'] = data.date.apply(lambda x: int(x[4:6]))\n",
    "data.loc[:, 'day'] = data.date.apply(lambda x: int(x[6:8]))\n",
    "data.drop('date', axis='columns', inplace=True)"
   ]
  },
  {
   "cell_type": "code",
   "execution_count": 86,
   "metadata": {},
   "outputs": [],
   "source": [
    "# Extract time information\n",
    "data.loc[:, 'hour'] = data.time.apply(lambda x: int(x[0:2]))\n",
    "data.loc[:, 'minute'] = data.time.apply(lambda x: int(x[2:4]))\n",
    "data.drop('time', axis='columns', inplace=True)"
   ]
  },
  {
   "cell_type": "code",
   "execution_count": 87,
   "metadata": {},
   "outputs": [],
   "source": [
    "# Convert current time to an hour decimal\n",
    "time_hour_decimal = np.array(data.hour) + np.array(data.minute) / 60\n",
    "# Time delta in hours\n",
    "time_delta = time_hour_decimal - np.roll(time_hour_decimal, 1)\n",
    "# Correcting time deltas that occur across midnight\n",
    "time_delta = [24 + x if x < 0 else x for x in time_delta]\n",
    "data.loc[:, 'time_delta'] = time_delta"
   ]
  },
  {
   "cell_type": "code",
   "execution_count": 88,
   "metadata": {},
   "outputs": [],
   "source": [
    "# Created latitude and longitude rate of change features\n",
    "data.loc[:, 'lat_vel'] = (np.array(data.lat) - np.roll(np.array(data.lat), 1)) / time_delta\n",
    "# data.loc[:, 'lat_acc'] = np.round((np.array(data.lat_vel) - \n",
    "#                           np.roll(np.array(data.lat_vel), 1)) / time_delta, 8)\n",
    "data.loc[:, 'lon_vel'] = (np.array(data.lon) - np.roll(np.array(data.lon), 1)) / time_delta\n",
    "# data.loc[:, 'lon_acc'] = np.round((np.array(data.lon_vel) - \n",
    "#                           np.roll(np.array(data.lon_vel), 1)) / time_delta, 8)\n",
    "# Filter out bogus results\n",
    "data.lat_vel = data.lat_vel.apply(lambda x: 0 if abs(x) > 0.1 else x)\n",
    "# data.lat_acc = data.lat_acc.apply(lambda x: 0 if abs(x) > 3 else x)\n",
    "data.lon_vel = data.lon_vel.apply(lambda x: 0 if abs(x) > 0.1 else x)\n",
    "# data.lon_acc = data.lon_acc.apply(lambda x: 0 if abs(x) > 3 else x)"
   ]
  },
  {
   "cell_type": "code",
   "execution_count": 89,
   "metadata": {},
   "outputs": [],
   "source": [
    "# Capture transitions in storm's status\n",
    "data.loc[:, 'prev_status'] = np.roll(np.array(data.status), 1)"
   ]
  },
  {
   "cell_type": "code",
   "execution_count": 90,
   "metadata": {},
   "outputs": [],
   "source": [
    "# Create binary categorical columns\n",
    "data = pd.concat([data,\n",
    "                  pd.get_dummies(data.status),\n",
    "#                   pd.get_dummies(data.prev_status, prefix='pre'),\n",
    "                  pd.get_dummies(data.month, prefix='month'),\n",
    "                  pd.get_dummies(data.day, prefix='day'),\n",
    "                  pd.get_dummies(data.hour, prefix='hour')],\n",
    "                axis='columns')\n",
    "# Deleting redundant columns\n",
    "data.drop(['status', 'prev_status', 'month', 'day', 'hour'], axis='columns', inplace=True)"
   ]
  },
  {
   "cell_type": "code",
   "execution_count": 91,
   "metadata": {},
   "outputs": [],
   "source": [
    "# Correct first entry values\n",
    "data.time_delta = data.time_delta.apply(lambda x: 0 if x < 0 else x)"
   ]
  },
  {
   "cell_type": "code",
   "execution_count": 92,
   "metadata": {},
   "outputs": [],
   "source": [
    "# Filter all new event rows\n",
    "data = data[data.year != 9999]"
   ]
  },
  {
   "cell_type": "code",
   "execution_count": 94,
   "metadata": {},
   "outputs": [],
   "source": [
    "label = pd.DataFrame(np.roll(np.array(data[['lat']]), [-1, -1]),\n",
    "                     columns=['p_lat'])"
   ]
  },
  {
   "cell_type": "code",
   "execution_count": null,
   "metadata": {},
   "outputs": [],
   "source": []
  },
  {
   "cell_type": "markdown",
   "metadata": {},
   "source": [
    "### Modeling"
   ]
  },
  {
   "cell_type": "code",
   "execution_count": 96,
   "metadata": {},
   "outputs": [],
   "source": [
    "# Split data into a test set and a training set\n",
    "X_train, X_test, y_train, y_test = train_test_split(data, label, shuffle=True, test_size=0.2)"
   ]
  },
  {
   "cell_type": "code",
   "execution_count": 97,
   "metadata": {},
   "outputs": [],
   "source": [
    "# Standardizing the inputs\n",
    "ss = StandardScaler()\n",
    "X_train = ss.fit_transform(X_train)\n",
    "X_test = ss.transform(X_test)"
   ]
  },
  {
   "cell_type": "code",
   "execution_count": 110,
   "metadata": {},
   "outputs": [],
   "source": [
    "# Neural network\n",
    "model = Sequential()\n",
    "n_input = X_train.shape[1]\n",
    "n_hidden = n_input"
   ]
  },
  {
   "cell_type": "code",
   "execution_count": 136,
   "metadata": {},
   "outputs": [
    {
     "name": "stdout",
     "output_type": "stream",
     "text": [
      "Train on 39752 samples, validate on 9939 samples\n",
      "Epoch 1/4\n",
      "39752/39752 [==============================] - 4s 110us/step - loss: 108.9204 - val_loss: 27.7382\n",
      "Epoch 2/4\n",
      "39752/39752 [==============================] - 3s 68us/step - loss: 26.7336 - val_loss: 27.6900\n",
      "Epoch 3/4\n",
      "39752/39752 [==============================] - 2s 61us/step - loss: 26.4331 - val_loss: 27.4019\n",
      "Epoch 4/4\n",
      "39752/39752 [==============================] - 3s 71us/step - loss: 26.2256 - val_loss: 27.2400\n"
     ]
    }
   ],
   "source": [
    "model.add(Dense(n_hidden * 2, input_dim=n_input, activation='relu'))\n",
    "model.add(Dense(1, activation='linear'))\n",
    "model.compile(loss='mean_squared_error', optimizer='adam')\n",
    "# Train network\n",
    "history = model.fit(X_train, y_train, validation_data=(X_test, y_test), \n",
    "                    epochs=4, batch_size=512, verbose=1)"
   ]
  },
  {
   "cell_type": "code",
   "execution_count": 137,
   "metadata": {},
   "outputs": [
    {
     "data": {
      "image/png": "[encoded data removed]",
      "text/plain": [
       "<matplotlib.figure.Figure at 0x7f49525faa58>"
      ]
     },
     "metadata": {},
     "output_type": "display_data"
    }
   ],
   "source": [
    "train_loss = history.history['loss']\n",
    "test_loss = history.history['val_loss']\n",
    "plt.plot(train_loss, label='Training loss')\n",
    "plt.plot(test_loss, label='Testing loss')\n",
    "plt.legend(loc='best')\n",
    "plt.show();"
   ]
  },
  {
   "cell_type": "code",
   "execution_count": 139,
   "metadata": {},
   "outputs": [
    {
     "name": "stdout",
     "output_type": "stream",
     "text": [
      "9939/9939 [==============================] - 3s 334us/step\n"
     ]
    }
   ],
   "source": [
    "preds = model.predict(X_test, verbose=1)"
   ]
  },
  {
   "cell_type": "code",
   "execution_count": null,
   "metadata": {},
   "outputs": [
    {
     "data": {
      "text/plain": [
       "(array([995., 994., 993., 994., 993., 994., 995., 994., 993., 994.]),\n",
       " array([   0. ,  993.3, 1986.6, 2979.9, 3973.2, 4966.5, 5959.8, 6953.1,\n",
       "        7946.4, 8939.7, 9933. ]),\n",
       " <a list of 10 Patch objects>)"
      ]
     },
     "execution_count": 147,
     "metadata": {},
     "output_type": "execute_result"
    }
   ],
   "source": [
    "plt.figure(figsize=(15,15))\n",
    "plt.hist(y_test-preds)"
   ]
  },
  {
   "cell_type": "code",
   "execution_count": null,
   "metadata": {},
   "outputs": [],
   "source": []
  }
 ],
 "metadata": {
  "kernelspec": {
   "display_name": "Python 3",
   "language": "python",
   "name": "python3"
  },
  "language_info": {
   "codemirror_mode": {
    "name": "ipython",
    "version": 3
   },
   "file_extension": ".py",
   "mimetype": "text/x-python",
   "name": "python",
   "nbconvert_exporter": "python",
   "pygments_lexer": "ipython3",
   "version": "3.6.4"
  }
 },
 "nbformat": 4,
 "nbformat_minor": 2
}
